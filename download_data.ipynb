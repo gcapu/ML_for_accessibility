{
 "cells": [
  {
   "cell_type": "code",
   "execution_count": 95,
   "metadata": {},
   "outputs": [],
   "source": [
    "import pycld2 as cld2\n",
    "import pandas as pd\n",
    "import requests\n",
    "\n",
    "from os import listdir\n",
    "import matplotlib.pyplot as plt\n",
    "from math import ceil\n",
    "\n",
    "from queue import Queue\n",
    "from threading import Thread\n",
    "\n",
    "from pytictoc import TicToc\n",
    "t = TicToc()\n"
   ]
  },
  {
   "cell_type": "code",
   "execution_count": 2,
   "metadata": {},
   "outputs": [],
   "source": [
    "sites = pd.read_csv('top-1m.csv', names=['id', 'url']).drop('id', axis=1)"
   ]
  },
  {
   "cell_type": "code",
   "execution_count": 8,
   "metadata": {},
   "outputs": [
    {
     "name": "stdout",
     "output_type": "stream",
     "text": [
      "Within the 100000 most popular sites\n",
      "63% are in english domains\n"
     ]
    }
   ],
   "source": [
    "# some info\n",
    "tld = ['com', 'net', 'org', 'gov', 'uk', 'au', 'ca', 'nz', 'in'] # top level domains\n",
    "first_n = 100000\n",
    "num = sites[:first_n].url.apply(lambda x: x.split('.')[-1] in tld).sum()\n",
    "print(f'Within the {first_n} most popular sites')\n",
    "print(f'{int(num/first_n*100)}% are in english domains')"
   ]
  },
  {
   "cell_type": "code",
   "execution_count": 56,
   "metadata": {},
   "outputs": [],
   "source": [
    "def get_site(domain, verbose = False):\n",
    "    try:\n",
    "        # get the site using https and http\n",
    "        r = requests.get('https://' + domain, headers={'User-Agent': 'Mozilla/5.0'})\n",
    "        if r.status_code != 200:\n",
    "            r = requests.get('http://' + domain, headers={'User-Agent': 'Mozilla/5.0'})\n",
    "        if r.status_code != 200:\n",
    "            if verbose:\n",
    "                print(f'status: {r.status_code}')\n",
    "            return False\n",
    "        # only return the content if it is in english\n",
    "        isReliable, textBytesFound, details = cld2.detect(r.content)\n",
    "        if not isReliable:\n",
    "            if verbose:\n",
    "                print('not reliable')\n",
    "            return False\n",
    "        is_english = False\n",
    "        for lang in details:\n",
    "            if lang[0] == 'ENGLISH' and lang[2] > 90:\n",
    "                is_english = True\n",
    "        if not is_english:\n",
    "            if verbose:\n",
    "                print('not english')\n",
    "            return False\n",
    "        return r.text\n",
    "    except:\n",
    "        if verbose:\n",
    "            print('got error')\n",
    "        return False\n",
    "                "
   ]
  },
  {
   "cell_type": "code",
   "execution_count": 106,
   "metadata": {},
   "outputs": [],
   "source": [
    "class DownloadWorker(Thread):\n",
    "\n",
    "    def __init__(self, queue):\n",
    "        Thread.__init__(self)\n",
    "        self.queue = queue\n",
    "\n",
    "    def run(self):\n",
    "        while True:\n",
    "            # Get the work from the queue and expand the tuple\n",
    "            index, link = self.queue.get()\n",
    "            if index%1000 == 0:\n",
    "                print(index)\n",
    "                t.toc()\n",
    "            data = get_site(link)\n",
    "            if data:\n",
    "                with open(f'./sites/{index}.html', \"w\") as file:\n",
    "                    file.write(data)\n",
    "            self.queue.task_done()\n",
    "\n"
   ]
  },
  {
   "cell_type": "code",
   "execution_count": 109,
   "metadata": {},
   "outputs": [],
   "source": [
    "def main(links):\n",
    "    # Create a queue to communicate with the worker threads\n",
    "    queue = Queue()\n",
    "    # Create 8 worker threads\n",
    "    for x in range(8):\n",
    "        worker = DownloadWorker(queue)\n",
    "        # Setting daemon to True will let the main thread exit even though the workers are blocking\n",
    "        worker.daemon = True\n",
    "        worker.start()\n",
    "    # Put the tasks into the queue as a tuple\n",
    "    for index, link in links.items():\n",
    "        queue.put((index, link))\n",
    "    # Causes the main thread to wait for the queue to finish processing all the tasks\n",
    "    queue.join()\n"
   ]
  },
  {
   "cell_type": "code",
   "execution_count": 110,
   "metadata": {},
   "outputs": [
    {
     "name": "stdout",
     "output_type": "stream",
     "text": [
      "0\n",
      "Elapsed time is 0.020111 seconds.\n",
      "1000\n",
      "Elapsed time is 558.326943 seconds.\n",
      "3000\n",
      "Elapsed time is 658.044600 seconds.\n",
      "4000\n",
      "Elapsed time is 1451.731736 seconds.\n",
      "2000\n",
      "Elapsed time is 1457.784338 seconds.\n",
      "3000\n",
      "Elapsed time is 2237.405049 seconds.\n",
      "5000\n",
      "Elapsed time is 2451.996237 seconds.\n",
      "4000\n",
      "Elapsed time is 2982.735280 seconds.\n",
      "6000\n",
      "Elapsed time is 3713.739316 seconds.\n",
      "5000\n",
      "Elapsed time is 4209.323505 seconds.\n",
      "7000\n",
      "Elapsed time is 4863.865789 seconds.\n",
      "6000\n",
      "Elapsed time is 5834.644517 seconds.\n",
      "8000\n",
      "Elapsed time is 6117.545051 seconds.\n",
      "7000\n",
      "Elapsed time is 7007.844797 seconds.\n",
      "9000\n",
      "Elapsed time is 7525.485269 seconds.\n",
      "8000\n",
      "Elapsed time is 8378.743163 seconds.\n",
      "10000\n",
      "Elapsed time is 8694.284455 seconds.\n",
      "9000\n",
      "Elapsed time is 10054.140520 seconds.\n",
      "11000\n",
      "Elapsed time is 10203.869011 seconds.\n",
      "10000\n",
      "Elapsed time is 11510.126170 seconds.\n",
      "12000\n",
      "Elapsed time is 11552.268492 seconds.\n",
      "13000\n",
      "Elapsed time is 13121.093887 seconds.\n",
      "11000\n",
      "Elapsed time is 13324.739868 seconds.\n",
      "14000\n",
      "Elapsed time is 14927.455414 seconds.\n",
      "12000\n",
      "Elapsed time is 14929.858810 seconds.\n",
      "15000\n",
      "Elapsed time is 16716.001606 seconds.\n",
      "13000\n",
      "Elapsed time is 16911.694833 seconds.\n",
      "16000\n",
      "Elapsed time is 18341.737249 seconds.\n",
      "14000\n",
      "Elapsed time is 19187.663482 seconds.\n",
      "17000\n",
      "Elapsed time is 19836.027440 seconds.\n",
      "18000\n",
      "Elapsed time is 21477.282418 seconds.\n",
      "15000\n",
      "Elapsed time is 23370.034700 seconds.\n",
      "19000\n",
      "Elapsed time is 23694.880999 seconds.\n",
      "16000\n",
      "Elapsed time is 25968.415015 seconds.\n",
      "17000\n",
      "Elapsed time is 28238.960331 seconds.\n",
      "18000\n",
      "Elapsed time is 30498.081623 seconds.\n",
      "19000\n",
      "Elapsed time is 33869.931378 seconds.\n"
     ]
    },
    {
     "ename": "KeyboardInterrupt",
     "evalue": "",
     "output_type": "error",
     "traceback": [
      "\u001b[0;31m---------------------------------------------------------------------------\u001b[0m",
      "\u001b[0;31mKeyboardInterrupt\u001b[0m                         Traceback (most recent call last)",
      "\u001b[0;32m<ipython-input-110-a8daa1b1a841>\u001b[0m in \u001b[0;36m<module>\u001b[0;34m\u001b[0m\n\u001b[1;32m      1\u001b[0m \u001b[0mt\u001b[0m\u001b[0;34m.\u001b[0m\u001b[0mtic\u001b[0m\u001b[0;34m(\u001b[0m\u001b[0;34m)\u001b[0m\u001b[0;34m\u001b[0m\u001b[0;34m\u001b[0m\u001b[0m\n\u001b[0;32m----> 2\u001b[0;31m \u001b[0mmain\u001b[0m\u001b[0;34m(\u001b[0m\u001b[0msites\u001b[0m\u001b[0;34m.\u001b[0m\u001b[0murl\u001b[0m\u001b[0;34m[\u001b[0m\u001b[0;34m:\u001b[0m\u001b[0;36m20000\u001b[0m\u001b[0;34m]\u001b[0m\u001b[0;34m)\u001b[0m\u001b[0;34m\u001b[0m\u001b[0;34m\u001b[0m\u001b[0m\n\u001b[0m\u001b[1;32m      3\u001b[0m \u001b[0mprint\u001b[0m\u001b[0;34m(\u001b[0m\u001b[0;34m'done'\u001b[0m\u001b[0;34m)\u001b[0m\u001b[0;34m\u001b[0m\u001b[0;34m\u001b[0m\u001b[0m\n\u001b[1;32m      4\u001b[0m \u001b[0mt\u001b[0m\u001b[0;34m.\u001b[0m\u001b[0mtoc\u001b[0m\u001b[0;34m(\u001b[0m\u001b[0;34m)\u001b[0m\u001b[0;34m\u001b[0m\u001b[0;34m\u001b[0m\u001b[0m\n",
      "\u001b[0;32m<ipython-input-109-31a33d4c05c1>\u001b[0m in \u001b[0;36mmain\u001b[0;34m(links)\u001b[0m\n\u001b[1;32m     12\u001b[0m         \u001b[0mqueue\u001b[0m\u001b[0;34m.\u001b[0m\u001b[0mput\u001b[0m\u001b[0;34m(\u001b[0m\u001b[0;34m(\u001b[0m\u001b[0mindex\u001b[0m\u001b[0;34m,\u001b[0m \u001b[0mlink\u001b[0m\u001b[0;34m)\u001b[0m\u001b[0;34m)\u001b[0m\u001b[0;34m\u001b[0m\u001b[0;34m\u001b[0m\u001b[0m\n\u001b[1;32m     13\u001b[0m     \u001b[0;31m# Causes the main thread to wait for the queue to finish processing all the tasks\u001b[0m\u001b[0;34m\u001b[0m\u001b[0;34m\u001b[0m\u001b[0;34m\u001b[0m\u001b[0m\n\u001b[0;32m---> 14\u001b[0;31m     \u001b[0mqueue\u001b[0m\u001b[0;34m.\u001b[0m\u001b[0mjoin\u001b[0m\u001b[0;34m(\u001b[0m\u001b[0;34m)\u001b[0m\u001b[0;34m\u001b[0m\u001b[0;34m\u001b[0m\u001b[0m\n\u001b[0m",
      "\u001b[0;32m~/anaconda3/envs/ptor/lib/python3.7/queue.py\u001b[0m in \u001b[0;36mjoin\u001b[0;34m(self)\u001b[0m\n\u001b[1;32m     87\u001b[0m         \u001b[0;32mwith\u001b[0m \u001b[0mself\u001b[0m\u001b[0;34m.\u001b[0m\u001b[0mall_tasks_done\u001b[0m\u001b[0;34m:\u001b[0m\u001b[0;34m\u001b[0m\u001b[0;34m\u001b[0m\u001b[0m\n\u001b[1;32m     88\u001b[0m             \u001b[0;32mwhile\u001b[0m \u001b[0mself\u001b[0m\u001b[0;34m.\u001b[0m\u001b[0munfinished_tasks\u001b[0m\u001b[0;34m:\u001b[0m\u001b[0;34m\u001b[0m\u001b[0;34m\u001b[0m\u001b[0m\n\u001b[0;32m---> 89\u001b[0;31m                 \u001b[0mself\u001b[0m\u001b[0;34m.\u001b[0m\u001b[0mall_tasks_done\u001b[0m\u001b[0;34m.\u001b[0m\u001b[0mwait\u001b[0m\u001b[0;34m(\u001b[0m\u001b[0;34m)\u001b[0m\u001b[0;34m\u001b[0m\u001b[0;34m\u001b[0m\u001b[0m\n\u001b[0m\u001b[1;32m     90\u001b[0m \u001b[0;34m\u001b[0m\u001b[0m\n\u001b[1;32m     91\u001b[0m     \u001b[0;32mdef\u001b[0m \u001b[0mqsize\u001b[0m\u001b[0;34m(\u001b[0m\u001b[0mself\u001b[0m\u001b[0;34m)\u001b[0m\u001b[0;34m:\u001b[0m\u001b[0;34m\u001b[0m\u001b[0;34m\u001b[0m\u001b[0m\n",
      "\u001b[0;32m~/anaconda3/envs/ptor/lib/python3.7/threading.py\u001b[0m in \u001b[0;36mwait\u001b[0;34m(self, timeout)\u001b[0m\n\u001b[1;32m    294\u001b[0m         \u001b[0;32mtry\u001b[0m\u001b[0;34m:\u001b[0m    \u001b[0;31m# restore state no matter what (e.g., KeyboardInterrupt)\u001b[0m\u001b[0;34m\u001b[0m\u001b[0;34m\u001b[0m\u001b[0m\n\u001b[1;32m    295\u001b[0m             \u001b[0;32mif\u001b[0m \u001b[0mtimeout\u001b[0m \u001b[0;32mis\u001b[0m \u001b[0;32mNone\u001b[0m\u001b[0;34m:\u001b[0m\u001b[0;34m\u001b[0m\u001b[0;34m\u001b[0m\u001b[0m\n\u001b[0;32m--> 296\u001b[0;31m                 \u001b[0mwaiter\u001b[0m\u001b[0;34m.\u001b[0m\u001b[0macquire\u001b[0m\u001b[0;34m(\u001b[0m\u001b[0;34m)\u001b[0m\u001b[0;34m\u001b[0m\u001b[0;34m\u001b[0m\u001b[0m\n\u001b[0m\u001b[1;32m    297\u001b[0m                 \u001b[0mgotit\u001b[0m \u001b[0;34m=\u001b[0m \u001b[0;32mTrue\u001b[0m\u001b[0;34m\u001b[0m\u001b[0;34m\u001b[0m\u001b[0m\n\u001b[1;32m    298\u001b[0m             \u001b[0;32melse\u001b[0m\u001b[0;34m:\u001b[0m\u001b[0;34m\u001b[0m\u001b[0;34m\u001b[0m\u001b[0m\n",
      "\u001b[0;31mKeyboardInterrupt\u001b[0m: "
     ]
    }
   ],
   "source": [
    "t.tic()\n",
    "main(sites.url[:60000])\n",
    "print('done')\n",
    "t.toc()"
   ]
  },
  {
   "cell_type": "code",
   "execution_count": null,
   "metadata": {},
   "outputs": [],
   "source": [
    "files = [file for file in listdir('./sites') if file[0]!='.'] \n",
    "site_indices = [int(file.split('.')[0]) for file in files]\n",
    "\n",
    "plt.hist(site_indices, bins=ceil(max(site_indices)/200))\n",
    "plt.show()"
   ]
  },
  {
   "cell_type": "code",
   "execution_count": null,
   "metadata": {},
   "outputs": [],
   "source": []
  }
 ],
 "metadata": {
  "kernelspec": {
   "display_name": "Python 3",
   "language": "python",
   "name": "python3"
  },
  "language_info": {
   "codemirror_mode": {
    "name": "ipython",
    "version": 3
   },
   "file_extension": ".py",
   "mimetype": "text/x-python",
   "name": "python",
   "nbconvert_exporter": "python",
   "pygments_lexer": "ipython3",
   "version": "3.7.4"
  }
 },
 "nbformat": 4,
 "nbformat_minor": 4
}
