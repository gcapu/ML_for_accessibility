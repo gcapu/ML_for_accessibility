{
 "cells": [
  {
   "cell_type": "code",
   "execution_count": 1,
   "metadata": {},
   "outputs": [],
   "source": [
    "import pandas as pd\n",
    "import csv\n",
    "import matplotlib.pyplot as plt\n",
    "import pandas as pd\n",
    "import csv\n",
    "from IPython.display import display\n",
    "import json\n",
    "import random"
   ]
  },
  {
   "cell_type": "code",
   "execution_count": 2,
   "metadata": {},
   "outputs": [],
   "source": [
    "train_ratio = 0.9\n",
    "with open('dataset.json', 'r') as ufile:\n",
    "    data = json.load(ufile)\n",
    "\n",
    "random.shuffle(data)\n",
    "train_size = int(len(data)*train_ratio)\n",
    "\n",
    "train_data = data[:train_size]\n",
    "test_data = data[train_size:]"
   ]
  },
  {
   "cell_type": "markdown",
   "metadata": {},
   "source": [
    "## Preparing the dictionaries"
   ]
  },
  {
   "cell_type": "markdown",
   "metadata": {},
   "source": [
    "We need to convert words to numbers, so we first create a dictionary."
   ]
  },
  {
   "cell_type": "code",
   "execution_count": 3,
   "metadata": {},
   "outputs": [],
   "source": [
    "SOS_token = 0\n",
    "EOS_token = 1\n",
    "\n",
    "# words in a dictionary \n",
    "class Lang:\n",
    "    def __init__(self, use_chars = False, min_count = 0):\n",
    "        self.min_count = min_count\n",
    "        self.use_chars = use_chars\n",
    "        self.word2index = {}\n",
    "        self.word2count = {}\n",
    "        self.index2word = {0: \"SOS\", 1: \"EOS\", 2: \"UNC\"}\n",
    "        self.n_words = 3  # Count SOS and EOS\n",
    "\n",
    "    def addSentence(self, sentence):\n",
    "        \"\"\"if use_chars, each character is a key\"\"\"\n",
    "        words = sentence.split(' ') if not self.use_chars else sentence\n",
    "        for word in words:\n",
    "            self.addWord(word)\n",
    "\n",
    "    def addWord(self, word):\n",
    "        if word not in ['', '.', 's']:\n",
    "            if word not in self.word2index:\n",
    "                self.word2index[word] = self.n_words\n",
    "                self.word2count[word] = 1\n",
    "                self.index2word[self.n_words] = word\n",
    "                self.n_words += 1\n",
    "            else:\n",
    "                self.word2count[word] += 1\n",
    "        \n",
    "    def removeUncommon(self):\n",
    "        uncommon = 0\n",
    "        uncommon_keys = []\n",
    "        for word in self.word2count:\n",
    "            if self.word2count[word] < self.min_count and self.word2index[word] > 2:\n",
    "                uncommon_keys.append(word)\n",
    "        for word in uncommon_keys:\n",
    "            uncommon += self.word2count[word]\n",
    "            self.word2count.pop(word)\n",
    "        self.index2word = {0: \"SOS\", 1: \"EOS\", 2: \"UNC\"}\n",
    "        self.word2index = {\"UNC\": 2}\n",
    "        self.n_words = 3  # Count SOS and EOS\n",
    "        for word in self.word2count:\n",
    "            self.word2index[word] = self.n_words\n",
    "            self.index2word[self.n_words] = word\n",
    "            self.n_words += 1\n",
    "        self.word2count[\"UNC\"] = uncommon\n",
    "        \n",
    "    def tensorFromSentence(self, sentence, remove_unc = False):\n",
    "        words = sentence.split(' ') if not self.use_chars else sentence\n",
    "        if self.min_count:\n",
    "            if remove_unc:\n",
    "                words = [w for w in words if w in self.word2index.keys()]\n",
    "            else:\n",
    "                words = [w if w in self.word2index.keys() else \"UNC\" for w in words]\n",
    "        indexes = [self.word2index[word] for word in words]\n",
    "        indexes.append(EOS_token)\n",
    "        return torch.tensor(indexes, dtype=torch.long, device=device).view(-1, 1)"
   ]
  },
  {
   "cell_type": "code",
   "execution_count": 4,
   "metadata": {},
   "outputs": [],
   "source": [
    "import unicodedata\n",
    "import re\n",
    "\n",
    "# Minimum number of appearances of a word. Otherwise it is discarded.\n",
    "min_count = 100\n",
    "\n",
    "# Turn a Unicode string to plain ASCII, thanks to\n",
    "# http://stackoverflow.com/a/518232/2809427\n",
    "def unicodeToAscii(s):\n",
    "    return ''.join(\n",
    "        c for c in unicodedata.normalize('NFD', s)\n",
    "        if unicodedata.category(c) != 'Mn'\n",
    "    )\n",
    "\n",
    "# Lowercase, trim, and remove non-letter characters\n",
    "def normalizeString(s):\n",
    "    s = unicodeToAscii(s.lower().strip())\n",
    "    s = re.sub(r\"([.!?])\", r\" \\1\", s)\n",
    "    s = re.sub(r\"[^a-zA-Z.!?]+\", r\" \", s)\n",
    "    return s"
   ]
  },
  {
   "cell_type": "code",
   "execution_count": 5,
   "metadata": {},
   "outputs": [
    {
     "name": "stdout",
     "output_type": "stream",
     "text": [
      "Counting words...\n",
      "Counted words:\n",
      "9756\n",
      "\n",
      "Some random entries:\n",
      "['proceed', 'tradition', 'ideaboards', 'levers', 'abandonment', 'charles', 'disease', 'eyeliner', 'ga', 'firelord']\n",
      "\n",
      "Most popular words in nav contents:\n",
      "your 1591\n",
      "the 1767\n",
      "for 1890\n",
      "a 2302\n",
      "and 3262\n",
      "to 4362\n",
      "UNC 4773\n"
     ]
    }
   ],
   "source": [
    "import random\n",
    "\n",
    "lang = Lang(min_count=2)\n",
    "print(\"Counting words...\")\n",
    "for file in train_data:\n",
    "    for sentence in file['words']:\n",
    "        lang.addSentence(normalizeString(sentence))\n",
    "lang.removeUncommon()\n",
    "print(\"Counted words:\")\n",
    "print(lang.n_words)\n",
    "\n",
    "print('')\n",
    "print('Some random entries:')\n",
    "print(random.choices([i for i in lang.word2count], k=10))\n",
    "\n",
    "print('')\n",
    "print('Most popular words in nav contents:')\n",
    "for i in sorted([(i, lang.word2count[i]) for i in lang.word2count if lang.word2count[i] >1500], key=lambda x:x[1]):\n",
    "    print(i[0], i[1])"
   ]
  },
  {
   "cell_type": "code",
   "execution_count": 6,
   "metadata": {},
   "outputs": [
    {
     "name": "stdout",
     "output_type": "stream",
     "text": [
      "Counting words...\n",
      "Counted words:\n",
      "372\n",
      "\n",
      "Some random entries:\n",
      "['kith', 'items', 'university', 'iras', 'wide', 'opinion', 'popular', 'c', 'corporate', 'alphabetical']\n",
      "\n",
      "Most popular words in labels:\n",
      "global 62\n",
      "and 67\n",
      "top 72\n",
      "social 72\n",
      "utility 74\n",
      "posts 87\n",
      "mobile 126\n",
      "site 158\n",
      "secondary 192\n",
      "links 194\n",
      "footer 240\n",
      "primary 255\n",
      "UNC 339\n",
      "main 648\n",
      "menu 717\n",
      "navigation 1037\n"
     ]
    }
   ],
   "source": [
    "output_lang = Lang(min_count=2)\n",
    "print(\"Counting words...\")\n",
    "for file in train_data:\n",
    "    output_lang.addSentence(normalizeString(file['label']))\n",
    "output_lang.removeUncommon()\n",
    "print(\"Counted words:\")\n",
    "print(output_lang.n_words)\n",
    "\n",
    "print('')\n",
    "print('Some random entries:')\n",
    "print(random.choices([i for i in output_lang.word2count], k=10))\n",
    "\n",
    "print('')\n",
    "print('Most popular words in labels:')\n",
    "for i in sorted([(i, output_lang.word2count[i]) for i in output_lang.word2count if output_lang.word2count[i] >60], key=lambda x:x[1]):\n",
    "    print(i[0], i[1])"
   ]
  },
  {
   "cell_type": "code",
   "execution_count": 7,
   "metadata": {},
   "outputs": [
    {
     "data": {
      "image/png": "[encoded data removed]",
      "text/plain": [
       "<Figure size 576x288 with 1 Axes>"
      ]
     },
     "metadata": {
      "needs_background": "light"
     },
     "output_type": "display_data"
    }
   ],
   "source": [
    "from matplotlib import pyplot as plt\n",
    "import random\n",
    "\n",
    "fig, ax = plt.subplots(figsize=(8,4))\n",
    "vals = lang.word2count.values()\n",
    "ax.hist([i for i in vals if i<200], bins=20)\n",
    "ax.set_yscale('log')\n",
    "ax.set_ylabel('Words')\n",
    "ax.set_xlabel('Appearances of a word')\n",
    "ax.set_title('Distribution of word appearances in nav contents')\n",
    "plt.show()"
   ]
  },
  {
   "cell_type": "markdown",
   "metadata": {},
   "source": [
    "We need something similar for the letters of the input"
   ]
  },
  {
   "cell_type": "markdown",
   "metadata": {},
   "source": [
    "## Actually making the models"
   ]
  },
  {
   "cell_type": "code",
   "execution_count": 8,
   "metadata": {},
   "outputs": [],
   "source": [
    "import torch\n",
    "import torch.nn as nn\n",
    "from torch import optim\n",
    "import torch.nn.functional as F\n",
    "\n",
    "device = torch.device(\"cuda\" if torch.cuda.is_available() else \"cpu\")"
   ]
  },
  {
   "cell_type": "code",
   "execution_count": 9,
   "metadata": {},
   "outputs": [],
   "source": [
    "class EncoderRNN(nn.Module):\n",
    "    def __init__(self, input_size, hidden_size):\n",
    "        super(EncoderRNN, self).__init__()\n",
    "        self.hidden_size = hidden_size\n",
    "\n",
    "        self.embedding = nn.Embedding(input_size, hidden_size)\n",
    "        self.gru = nn.GRU(hidden_size, hidden_size)\n",
    "\n",
    "    def forward(self, input, hidden):\n",
    "        embedded = self.embedding(input).view(1, 1, -1)\n",
    "        output = embedded\n",
    "        output, hidden = self.gru(output, hidden)\n",
    "        return output, hidden\n",
    "\n",
    "    def initHidden(self):\n",
    "        return torch.zeros(1, 1, self.hidden_size, device=device)"
   ]
  },
  {
   "cell_type": "code",
   "execution_count": 10,
   "metadata": {},
   "outputs": [],
   "source": [
    "class DecoderRNN(nn.Module):\n",
    "    def __init__(self, hidden_size, output_size):\n",
    "        super(DecoderRNN, self).__init__()\n",
    "        self.hidden_size = hidden_size\n",
    "\n",
    "        self.embedding = nn.Embedding(output_size, hidden_size)\n",
    "        self.gru = nn.GRU(hidden_size, hidden_size)\n",
    "        self.out = nn.Linear(hidden_size, output_size)\n",
    "        self.softmax = nn.LogSoftmax(dim=1)\n",
    "\n",
    "    def forward(self, input, hidden):\n",
    "        output = self.embedding(input).view(1, 1, -1)\n",
    "        output = F.relu(output)\n",
    "        output, hidden = self.gru(output, hidden)\n",
    "        output = self.softmax(self.out(output[0]))\n",
    "        return output, hidden\n",
    "\n",
    "    def initHidden(self):\n",
    "        return torch.zeros(1, 1, self.hidden_size, device=device)"
   ]
  },
  {
   "cell_type": "markdown",
   "metadata": {},
   "source": [
    "Training"
   ]
  },
  {
   "cell_type": "code",
   "execution_count": 11,
   "metadata": {},
   "outputs": [],
   "source": [
    "teacher_forcing_ratio = 0.5\n",
    "\n",
    "def train_step(input_tensor, target_tensor, encoder, decoder, encoder_optimizer, decoder_optimizer, criterion):\n",
    "    encoder_hidden = encoder.initHidden()\n",
    "\n",
    "    encoder_optimizer.zero_grad()\n",
    "    decoder_optimizer.zero_grad()\n",
    "\n",
    "    input_length = input_tensor.size(0)\n",
    "    target_length = target_tensor.size(0)\n",
    "\n",
    "    loss = 0\n",
    "\n",
    "    for ei in range(input_length):\n",
    "        encoder_output, encoder_hidden = encoder(input_tensor[ei], encoder_hidden)\n",
    "\n",
    "    decoder_input = torch.tensor([[SOS_token]], device=device)\n",
    "\n",
    "    decoder_hidden = encoder_hidden\n",
    "\n",
    "    use_teacher_forcing = True if random.random() < teacher_forcing_ratio else False\n",
    "\n",
    "    if use_teacher_forcing:\n",
    "        # Teacher forcing: Feed the target as the next input\n",
    "        for di in range(target_length):\n",
    "            decoder_output, decoder_hidden = decoder(decoder_input, decoder_hidden)\n",
    "            loss += criterion(decoder_output, target_tensor[di])\n",
    "            decoder_input = target_tensor[di]  # Teacher forcing\n",
    "\n",
    "    else:\n",
    "        # Without teacher forcing: use its own predictions as the next input\n",
    "        for di in range(target_length):\n",
    "            decoder_output, decoder_hidden = decoder(decoder_input, decoder_hidden)\n",
    "            topv, topi = decoder_output.topk(1)\n",
    "            decoder_input = topi.squeeze().detach()  # detach from history as input\n",
    "\n",
    "            loss += criterion(decoder_output, target_tensor[di])\n",
    "            if decoder_input.item() == EOS_token:\n",
    "                break\n",
    "\n",
    "    loss.backward()\n",
    "\n",
    "    encoder_optimizer.step()\n",
    "    decoder_optimizer.step()\n",
    "\n",
    "    return loss.item() / target_length"
   ]
  },
  {
   "cell_type": "code",
   "execution_count": 12,
   "metadata": {},
   "outputs": [],
   "source": [
    "import time\n",
    "import math\n",
    "\n",
    "\n",
    "def asMinutes(s):\n",
    "    m = math.floor(s / 60)\n",
    "    s -= m * 60\n",
    "    return '%dm %ds' % (m, s)\n",
    "\n",
    "\n",
    "def timeSince(since, percent):\n",
    "    now = time.time()\n",
    "    s = now - since\n",
    "    if percent > 0:\n",
    "        es = s / (percent)\n",
    "    else:\n",
    "        es = 0\n",
    "    rs = es - s\n",
    "    return '%s (- %s)' % (asMinutes(s), asMinutes(rs))"
   ]
  },
  {
   "cell_type": "code",
   "execution_count": 22,
   "metadata": {},
   "outputs": [
    {
     "data": {
      "text/plain": [
       "'personal insurance business insurance about liberty mutual about our company international careers'"
      ]
     },
     "execution_count": 22,
     "metadata": {},
     "output_type": "execute_result"
    }
   ],
   "source": [
    "def prepare_words(sentences, max_words = 20):\n",
    "    nav_words = []\n",
    "    for sentence in sentences:\n",
    "        for word in sentence.split(' '):\n",
    "            nav_words.append(word)\n",
    "    nav_words = ' '.join(nav_words[:max_words])\n",
    "    return normalizeString(nav_words)\n",
    "\n",
    "def nav_to_tensor(nav, lang):\n",
    "    \n",
    "    lcodes = {'body': 0, 'header': 1, 'footer': 2}\n",
    "    nav_location = nav['location']\n",
    "    nav_location_code = lcodes[nav_location] if (nav_location in lcodes) else 3\n",
    "                          \n",
    "    input_tensor = lang.tensorFromSentence(prepare_words(nav['words']))\n",
    "    other_inputs = torch.tensor([[nav_location_code], [nav['index']]])\n",
    "    return torch.cat((other_inputs, input_tensor))\n",
    "\n",
    "class NavDataGenerator:\n",
    "    def __init__(self, navs, input_lang, output_lang):\n",
    "        self.navs = navs\n",
    "        self.input_lang = input_lang\n",
    "        self.output_lang = output_lang\n",
    "    def get_case(self, i=None):\n",
    "        nav = random.choice(self.navs) if (i is None) else self.navs[i]\n",
    "        input_tensor = nav_to_tensor(nav, self.input_lang)\n",
    "        target_tensor = output_lang.tensorFromSentence(normalizeString(nav['label']), remove_unc=True)\n",
    "        \n",
    "        return input_tensor, target_tensor\n",
    "\n",
    "nav_gen_train = NavDataGenerator(train_data, lang, output_lang)\n",
    "nav_gen_test = NavDataGenerator(test_data, lang, output_lang)\n",
    "\n",
    "prepare_words(train_data[2]['words'])"
   ]
  },
  {
   "cell_type": "code",
   "execution_count": 14,
   "metadata": {},
   "outputs": [],
   "source": [
    "def train(data_generator, encoder, decoder, n_iters, print_every=1000, plot_every=100, learning_rate=0.01, timeout = None, max_len=3):\n",
    "    start = time.time()\n",
    "    plot_losses = []\n",
    "    print_loss_total = 0  # Reset every print_every\n",
    "    plot_loss_total = 0  # Reset every plot_every\n",
    "\n",
    "    encoder_optimizer = optim.Adam(encoder.parameters(), lr=learning_rate)\n",
    "    decoder_optimizer = optim.Adam(decoder.parameters(), lr=learning_rate)\n",
    "    criterion = nn.NLLLoss()\n",
    "    \n",
    "    for iter in range(n_iters):\n",
    "        input_tensor, target_tensor = data_generator.get_case()\n",
    "        loss = train_step(input_tensor, target_tensor, encoder,\n",
    "                     decoder, encoder_optimizer, decoder_optimizer, criterion)\n",
    "        print_loss_total += loss\n",
    "        plot_loss_total += loss\n",
    "\n",
    "        if iter % print_every == 0:\n",
    "            print_loss_avg = print_loss_total / print_every\n",
    "            print_loss_total = 0\n",
    "            print('%s (%d %d%%) %.4f' % (timeSince(start, iter / n_iters),\n",
    "                                         iter, iter / n_iters * 100, print_loss_avg))\n",
    "\n",
    "        if iter % plot_every == 0:\n",
    "            plot_loss_avg = plot_loss_total / plot_every\n",
    "            plot_losses.append(plot_loss_avg)\n",
    "            plot_loss_total = 0\n",
    "        \n",
    "        if timeout is not None:\n",
    "            if (time.time() - start) > timeout:\n",
    "                break\n",
    "\n",
    "    showPlot(plot_losses)\n"
   ]
  },
  {
   "cell_type": "code",
   "execution_count": 15,
   "metadata": {},
   "outputs": [],
   "source": [
    "import matplotlib.pyplot as plt\n",
    "plt.switch_backend('agg')\n",
    "import matplotlib.ticker as ticker\n",
    "import numpy as np\n",
    "\n",
    "\n",
    "def showPlot(points):\n",
    "    plt.figure()\n",
    "    fig, ax = plt.subplots()\n",
    "    # this locator puts ticks at regular intervals\n",
    "    loc = ticker.MultipleLocator(base=0.2)\n",
    "    ax.yaxis.set_major_locator(loc)\n",
    "    plt.plot(points)\n"
   ]
  },
  {
   "cell_type": "code",
   "execution_count": 16,
   "metadata": {},
   "outputs": [],
   "source": [
    "def evaluate(encoder, decoder, nav, input_lang, output_lang, max_length=3):\n",
    "    with torch.no_grad():\n",
    "        input_tensor = nav_to_tensor(nav, input_lang)\n",
    "        input_length = input_tensor.size()[0]\n",
    "        encoder_hidden = encoder.initHidden()\n",
    "\n",
    "        for ei in range(input_length):\n",
    "            encoder_output, encoder_hidden = encoder(input_tensor[ei], encoder_hidden)\n",
    "\n",
    "        decoder_input = torch.tensor([[SOS_token]], device=device)  # SOS\n",
    "        decoder_hidden = encoder_hidden\n",
    "        decoded_words = []\n",
    "\n",
    "        for di in range(max_length):\n",
    "            decoder_output, decoder_hidden = decoder(decoder_input, decoder_hidden)\n",
    "            topv, topi = decoder_output.data.topk(1)\n",
    "            if topi.item() == EOS_token and len(decoded_words) > 0:\n",
    "                break\n",
    "            else:\n",
    "                decoded_words.append(output_lang.index2word[topi.item()])\n",
    "\n",
    "            decoder_input = topi.squeeze().detach()\n",
    "\n",
    "        return decoded_words\n"
   ]
  },
  {
   "cell_type": "code",
   "execution_count": 17,
   "metadata": {},
   "outputs": [],
   "source": [
    "def evaluateRandomly(encoder, decoder, data, input_lang, output_lang, n=10):\n",
    "    for i in range(n):\n",
    "        nav = random.choice(data)\n",
    "        print('INPUT     |', prepare_words(nav['words']))\n",
    "        print('LABEL     |', nav['label'])\n",
    "        output_words = evaluate(encoder, decoder, nav, input_lang, output_lang)\n",
    "        output_sentence = ' '.join(output_words)\n",
    "        print('PREDICTED |', output_sentence)\n",
    "        print('')\n"
   ]
  },
  {
   "cell_type": "code",
   "execution_count": 18,
   "metadata": {},
   "outputs": [
    {
     "name": "stdout",
     "output_type": "stream",
     "text": [
      "0m 0s (- -1m 59s) (0 0%) 0.0297\n",
      "0m 29s (- 4m 27s) (200 10%) 3.9920\n",
      "0m 59s (- 3m 57s) (400 20%) 3.8435\n",
      "1m 29s (- 3m 28s) (600 30%) 4.2729\n",
      "1m 59s (- 2m 59s) (800 40%) 4.7303\n",
      "2m 29s (- 2m 29s) (1000 50%) 5.4378\n",
      "3m 0s (- 2m 0s) (1200 60%) 4.6302\n",
      "3m 30s (- 1m 30s) (1400 70%) 4.3706\n",
      "4m 0s (- 1m 0s) (1600 80%) 4.7262\n",
      "4m 29s (- 0m 29s) (1800 90%) 5.5180\n"
     ]
    },
    {
     "data": {
      "text/plain": [
       "<Figure size 432x288 with 0 Axes>"
      ]
     },
     "metadata": {},
     "output_type": "display_data"
    },
    {
     "data": {
      "image/png": "[encoded data removed]",
      "text/plain": [
       "<Figure size 432x288 with 1 Axes>"
      ]
     },
     "metadata": {
      "needs_background": "light"
     },
     "output_type": "display_data"
    }
   ],
   "source": [
    "\n",
    "hidden_size = 256\n",
    "encoder = EncoderRNN(lang.n_words, hidden_size).to(device)\n",
    "decoder = DecoderRNN(hidden_size, output_lang.n_words).to(device)\n",
    "\n",
    "train(nav_gen_train, encoder, decoder, 2000, print_every=200)\n"
   ]
  },
  {
   "cell_type": "code",
   "execution_count": 19,
   "metadata": {},
   "outputs": [
    {
     "name": "stdout",
     "output_type": "stream",
     "text": [
      "INPUT     | weather climate chevron everything you need to know about the forecast and making the most of the weather . find\n",
      "LABEL     | second level\n",
      "PREDICTED | main navigation\n",
      "\n",
      "INPUT     | admissions academics campus life athletics research about uwf search sticky header search bar\n",
      "LABEL     | Sticky header main navigation\n",
      "PREDICTED | main navigation\n",
      "\n",
      "INPUT     | about us press media careers terms of service privacy policy blog\n",
      "LABEL     | Footer menu 2\n",
      "PREDICTED | site\n",
      "\n",
      "INPUT     | contact choose your country . current selection is the global website . global australia brasil deutschland france sweden\n",
      "LABEL     | utility\n",
      "PREDICTED | primary navigation\n",
      "\n",
      "INPUT     | posts navigation next posts \n",
      "LABEL     | Posts\n",
      "PREDICTED | posts posts\n",
      "\n",
      "INPUT     | dewalt logo\n",
      "LABEL     | Primary Navigtion\n",
      "PREDICTED | main menu\n",
      "\n",
      "INPUT     | \n",
      "LABEL     | Clubs Menu\n",
      "PREDICTED | main menu\n",
      "\n",
      "INPUT     | common tasks view pay bill manage my\n",
      "LABEL     | Footer\n",
      "PREDICTED | site\n",
      "\n",
      "INPUT     | about the berklee hub accessibility audition berklee and boston conservatory merger berklee holiday schedule berkleeice berklee president position description\n",
      "LABEL     | Autocomplete\n",
      "PREDICTED | posts\n",
      "\n",
      "INPUT     | back to top \n",
      "LABEL     | click to go to top of page\n",
      "PREDICTED | main menu\n",
      "\n"
     ]
    }
   ],
   "source": [
    "evaluateRandomly(encoder, decoder, test_data, lang, output_lang)"
   ]
  },
  {
   "cell_type": "code",
   "execution_count": null,
   "metadata": {},
   "outputs": [],
   "source": []
  },
  {
   "cell_type": "code",
   "execution_count": null,
   "metadata": {},
   "outputs": [],
   "source": []
  },
  {
   "cell_type": "code",
   "execution_count": null,
   "metadata": {},
   "outputs": [],
   "source": []
  },
  {
   "cell_type": "code",
   "execution_count": null,
   "metadata": {},
   "outputs": [],
   "source": []
  }
 ],
 "metadata": {
  "kernelspec": {
   "display_name": "Python 3",
   "language": "python",
   "name": "python3"
  },
  "language_info": {
   "codemirror_mode": {
    "name": "ipython",
    "version": 3
   },
   "file_extension": ".py",
   "mimetype": "text/x-python",
   "name": "python",
   "nbconvert_exporter": "python",
   "pygments_lexer": "ipython3",
   "version": "3.7.4"
  }
 },
 "nbformat": 4,
 "nbformat_minor": 4
}
