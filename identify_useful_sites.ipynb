{
 "cells": [
  {
   "cell_type": "code",
   "execution_count": 1,
   "metadata": {},
   "outputs": [],
   "source": [
    "from bs4 import BeautifulSoup\n",
    "import pandas as pd\n",
    "from os import listdir\n",
    "from tqdm import tqdm\n",
    "import json"
   ]
  },
  {
   "cell_type": "code",
   "execution_count": 2,
   "metadata": {},
   "outputs": [],
   "source": [
    "def navs_with_labels(soup):\n",
    "    i=0\n",
    "    for result in soup.findAll(\"div\", {\"role\" : \"navigation\"}):\n",
    "        if result.has_attr('aria-label'):\n",
    "            i += 1\n",
    "    for result in soup.findAll(\"nav\"):\n",
    "        if result.has_attr('aria-label'):\n",
    "            i += 1\n",
    "    return i"
   ]
  },
  {
   "cell_type": "code",
   "execution_count": 4,
   "metadata": {},
   "outputs": [
    {
     "name": "stderr",
     "output_type": "stream",
     "text": [
      "100%|██████████| 20489/20489 [21:26<00:00, 15.93it/s] "
     ]
    },
    {
     "name": "stdout",
     "output_type": "stream",
     "text": [
      "3253 1508\n"
     ]
    },
    {
     "name": "stderr",
     "output_type": "stream",
     "text": [
      "\n"
     ]
    }
   ],
   "source": [
    "dir = './sites'\n",
    "files = [file for file in listdir(dir) if file[0]!='.']\n",
    "num_navs = 0\n",
    "num_sites = 0\n",
    "useful = []\n",
    "for filename in tqdm(files):\n",
    "    with open(f'{dir}/{filename}', 'r') as f:\n",
    "        soup = BeautifulSoup(f, 'html.parser')\n",
    "        nwl = navs_with_labels(soup)\n",
    "        num_navs += nwl\n",
    "        num_sites += nwl>0\n",
    "        if nwl > 0:\n",
    "            useful.append(filename)\n",
    "print(f'number of labeled navs in the dataset: {num_navs}')\n",
    "print(f'number of sites with labeled navs in the dataset: {num_sites}')\n",
    "with open('useful.txt', 'w') as ufile:\n",
    "    json.dump(useful, ufile)\n"
   ]
  },
  {
   "cell_type": "code",
   "execution_count": 5,
   "metadata": {},
   "outputs": [
    {
     "name": "stderr",
     "output_type": "stream",
     "text": [
      "  0%|          | 2/1508 [00:00<01:34, 15.87it/s]"
     ]
    },
    {
     "name": "stdout",
     "output_type": "stream",
     "text": [
      "1508\n",
      "<class 'list'>\n"
     ]
    },
    {
     "name": "stderr",
     "output_type": "stream",
     "text": [
      "100%|██████████| 1508/1508 [01:47<00:00, 14.03it/s]"
     ]
    },
    {
     "name": "stdout",
     "output_type": "stream",
     "text": [
      "3253 1508\n"
     ]
    },
    {
     "name": "stderr",
     "output_type": "stream",
     "text": [
      "\n"
     ]
    }
   ],
   "source": [
    "num_navs = 0\n",
    "num_sites = 0\n",
    "with open('useful.txt', 'r') as ufile:\n",
    "    data = json.load(ufile)\n",
    "    for filename in tqdm(data):\n",
    "        with open(f'{dir}/{filename}', 'r') as f:\n",
    "            soup = BeautifulSoup(f, 'html.parser')\n",
    "            nwl = navs_with_labels(soup)\n",
    "            num_navs += nwl\n",
    "            num_sites += nwl>0\n",
    "    print('we should get the same number of navs with labels in this subset of sites:')\n",
    "    print(f'number of labeled navs in the subset: {num_navs}')\n",
    "    print(f'number of sites with labeled navs in the subset: {num_sites}')\n",
    "\n"
   ]
  },
  {
   "cell_type": "code",
   "execution_count": null,
   "metadata": {},
   "outputs": [],
   "source": []
  }
 ],
 "metadata": {
  "kernelspec": {
   "display_name": "Python 3",
   "language": "python",
   "name": "python3"
  },
  "language_info": {
   "codemirror_mode": {
    "name": "ipython",
    "version": 3
   },
   "file_extension": ".py",
   "mimetype": "text/x-python",
   "name": "python",
   "nbconvert_exporter": "python",
   "pygments_lexer": "ipython3",
   "version": "3.7.4"
  }
 },
 "nbformat": 4,
 "nbformat_minor": 4
}
